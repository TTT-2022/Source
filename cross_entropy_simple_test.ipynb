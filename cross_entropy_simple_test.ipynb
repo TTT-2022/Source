{
 "cells": [
  {
   "cell_type": "code",
   "execution_count": 17,
   "metadata": {},
   "outputs": [],
   "source": [
    "import numpy as np"
   ]
  },
  {
   "cell_type": "code",
   "execution_count": 18,
   "metadata": {},
   "outputs": [],
   "source": [
    "features = np.array([-1.8, -0.8, -0.5, -0.1, -0.5, 0.6, 0.9, 1.1, 1.9])\n",
    "y_true = np.array([0, 0, 1, 0, 0, 1, 1, 1, 1])"
   ]
  },
  {
   "cell_type": "code",
   "execution_count": 16,
   "metadata": {},
   "outputs": [
    {
     "name": "stdout",
     "output_type": "stream",
     "text": [
      "[0 0 1 0 0 1 1 1 1]\n",
      "[-1.8 -0.8 -0.5 -0.1 -0.5  0.6  0.9  1.1  1.9]\n",
      "[0.12811576 0.32222657 0.40340226 0.5195792  0.40340226 0.71100536\n",
      " 0.77773597 0.81568078 0.91883969]\n"
     ]
    }
   ],
   "source": [
    "from sklearn.linear_model import LogisticRegression\n",
    "model = LogisticRegression()\n",
    "model.fit(features.reshape(-1, 1), y_true)\n",
    "y_pred = model.predict_proba(features.reshape(-1, 1))[:, 1].ravel()\n",
    "\n",
    "print(y_true)\n",
    "print(features)\n",
    "print(y_pred)"
   ]
  },
  {
   "cell_type": "code",
   "execution_count": 19,
   "metadata": {},
   "outputs": [],
   "source": [
    "import tensorflow as tf"
   ]
  },
  {
   "cell_type": "code",
   "execution_count": 22,
   "metadata": {},
   "outputs": [
    {
     "name": "stdout",
     "output_type": "stream",
     "text": [
      "log los = 16.4058\n"
     ]
    }
   ],
   "source": [
    "bce = tf.keras.losses.BinaryCrossentropy()\n",
    "# bce = tf.keras.losses.categorical_crossentropy\n",
    "\n",
    "bce = bce(y_true, y_pred)\n",
    "bce = bce(y_true, features)\n",
    "print('log los = %.4f' %bce)"
   ]
  },
  {
   "cell_type": "code",
   "execution_count": null,
   "metadata": {},
   "outputs": [],
   "source": []
  }
 ],
 "metadata": {
  "kernelspec": {
   "display_name": "Python 3.6.13 ('tf')",
   "language": "python",
   "name": "python3"
  },
  "language_info": {
   "codemirror_mode": {
    "name": "ipython",
    "version": 3
   },
   "file_extension": ".py",
   "mimetype": "text/x-python",
   "name": "python",
   "nbconvert_exporter": "python",
   "pygments_lexer": "ipython3",
   "version": "3.6.13"
  },
  "orig_nbformat": 4,
  "vscode": {
   "interpreter": {
    "hash": "3e98ec3cf507767d6262a70ed2e55ee9edeeeb5d0881c636578c2c6696ed4eb1"
   }
  }
 },
 "nbformat": 4,
 "nbformat_minor": 2
}
