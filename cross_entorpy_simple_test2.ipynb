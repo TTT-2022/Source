{
 "cells": [
  {
   "cell_type": "code",
   "execution_count": 1,
   "metadata": {},
   "outputs": [],
   "source": [
    "import math\n",
    "\n",
    "input_data = [(0.26, 1),\n",
    "              (0.20, 0),\n",
    "              (0.48, 1),\n",
    "              (0.30, 0)]\n",
    "\n"
   ]
  },
  {
   "cell_type": "code",
   "execution_count": 2,
   "metadata": {},
   "outputs": [],
   "source": [
    "def cross_entropy(input_data):\n",
    "    loss = 0\n",
    "    n = len(input_data)\n",
    "    for entry in input_data:\n",
    "        w_sum = entry[0]\n",
    "        y = entry[1]\n",
    "        loss += -(y*math.log10(w_sum) + (1-y)*math.log10(1-w_sum))\n",
    "    return loss/n"
   ]
  },
  {
   "cell_type": "code",
   "execution_count": 3,
   "metadata": {},
   "outputs": [
    {
     "name": "stdout",
     "output_type": "stream",
     "text": [
      "0.2888993469118486\n"
     ]
    }
   ],
   "source": [
    "error_term = cross_entropy(input_data)\n",
    "print(error_term)"
   ]
  }
 ],
 "metadata": {
  "kernelspec": {
   "display_name": "Python 3.7.11 ('Deep_Learning')",
   "language": "python",
   "name": "python3"
  },
  "language_info": {
   "codemirror_mode": {
    "name": "ipython",
    "version": 3
   },
   "file_extension": ".py",
   "mimetype": "text/x-python",
   "name": "python",
   "nbconvert_exporter": "python",
   "pygments_lexer": "ipython3",
   "version": "3.7.11"
  },
  "orig_nbformat": 4,
  "vscode": {
   "interpreter": {
    "hash": "69b921415ac254e7930c9839f1f531b85e95dba2c71a172af51a8fad4cca6050"
   }
  }
 },
 "nbformat": 4,
 "nbformat_minor": 2
}
