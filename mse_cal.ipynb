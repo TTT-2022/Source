{
 "cells": [
  {
   "cell_type": "code",
   "execution_count": 1,
   "metadata": {},
   "outputs": [],
   "source": [
    "data = [(1,3), (2,5)]"
   ]
  },
  {
   "cell_type": "code",
   "execution_count": 4,
   "metadata": {},
   "outputs": [],
   "source": [
    "m = -1\n",
    "b = 5\n",
    "lr = 0.1\n",
    "\n",
    "errors = []\n",
    "weights = []"
   ]
  },
  {
   "cell_type": "code",
   "execution_count": 10,
   "metadata": {},
   "outputs": [
    {
     "name": "stdout",
     "output_type": "stream",
     "text": [
      "epoch 0\n",
      "err 8.0\n",
      "epoch 0\n",
      "err 32.5\n",
      "epoch 10\n",
      "err 8.0\n",
      "epoch 10\n",
      "err 32.5\n",
      "epoch 20\n",
      "err 8.0\n",
      "epoch 20\n",
      "err 32.5\n",
      "epoch 30\n",
      "err 8.0\n",
      "epoch 30\n",
      "err 32.5\n",
      "epoch 40\n",
      "err 8.0\n",
      "epoch 40\n",
      "err 32.5\n",
      "epoch 50\n",
      "err 8.0\n",
      "epoch 50\n",
      "err 32.5\n",
      "epoch 60\n",
      "err 8.0\n",
      "epoch 60\n",
      "err 32.5\n",
      "epoch 70\n",
      "err 8.0\n",
      "epoch 70\n",
      "err 32.5\n",
      "epoch 80\n",
      "err 8.0\n",
      "epoch 80\n",
      "err 32.5\n",
      "epoch 90\n",
      "err 8.0\n",
      "epoch 90\n",
      "err 32.5\n"
     ]
    }
   ],
   "source": [
    "\n",
    "# Calculate mean square error\n",
    "n = len(data)\n",
    "for epoch in range(100):\n",
    "\n",
    "    # n = len(data)\n",
    "    squared_error = 0\n",
    "\n",
    "    for x, y in data:\n",
    "        # Find predicted error\n",
    "        y_hat = m*x+b\n",
    "        squared_error += (y - y_hat)**2\n",
    "        mse = squared_error / n\n",
    "\n",
    "        ###\n",
    "        w_g = lr * ((y - y_hat)*x)\n",
    "        b_g = lr * (y - y_hat)\n",
    "\n",
    "        # w, b update\n",
    "        m = m - w_g\n",
    "        b = b = b_g\n",
    "\n",
    "        errors.append(mse)\n",
    "        weights.append(m)\n",
    "\n",
    "        if epoch % 10 == 0:\n",
    "            print('epoch', epoch)\n",
    "            print('err', mse)\n",
    "\n",
    "\n",
    "\n",
    "\n",
    "\n",
    "# def get_mse(data, m, b):\n",
    "#     # Calculate mean square error\n",
    "#     n = len(data)\n",
    "#     squared_error = 0\n",
    "\n",
    "#     for x, y in data:\n",
    "#         # Find predicted error\n",
    "#         y_hat = m*x+b\n",
    "#         squared_error += (y - y_hat)**2\n",
    "#         mse = squared_error / n\n",
    "\n",
    "#         ###\n",
    "#         w_g = lr * ((y - y_hat)*x).mean()\n",
    "#         b_g = lr * (y_hat - y).mean()\n",
    "\n",
    "#         # w, b update\n",
    "#         w = w - w_g\n",
    "#         b = b = b_g\n",
    "\n",
    "#         errors.append(mse)\n",
    "#         weights.append(w)\n",
    "\n",
    "#     return mse"
   ]
  },
  {
   "cell_type": "code",
   "execution_count": 6,
   "metadata": {},
   "outputs": [
    {
     "name": "stdout",
     "output_type": "stream",
     "text": [
      "2.5\n"
     ]
    }
   ],
   "source": [
    "print(get_mse(data, m, b))"
   ]
  },
  {
   "cell_type": "code",
   "execution_count": null,
   "metadata": {},
   "outputs": [],
   "source": []
  },
  {
   "cell_type": "code",
   "execution_count": null,
   "metadata": {},
   "outputs": [],
   "source": []
  }
 ],
 "metadata": {
  "kernelspec": {
   "display_name": "Python 3.6.13 ('tf')",
   "language": "python",
   "name": "python3"
  },
  "language_info": {
   "codemirror_mode": {
    "name": "ipython",
    "version": 3
   },
   "file_extension": ".py",
   "mimetype": "text/x-python",
   "name": "python",
   "nbconvert_exporter": "python",
   "pygments_lexer": "ipython3",
   "version": "3.6.13"
  },
  "orig_nbformat": 4,
  "vscode": {
   "interpreter": {
    "hash": "3e98ec3cf507767d6262a70ed2e55ee9edeeeb5d0881c636578c2c6696ed4eb1"
   }
  }
 },
 "nbformat": 4,
 "nbformat_minor": 2
}
